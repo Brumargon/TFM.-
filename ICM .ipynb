{
 "cells": [
  {
   "cell_type": "code",
   "execution_count": 149,
   "id": "b1d61dcf",
   "metadata": {},
   "outputs": [],
   "source": [
    "#import agentpy as ap\n",
    "import random\n",
    "import numpy as np\n",
    "import matplotlib.pyplot as plt\n",
    "import pandas as pd\n",
    "import networkx as nx\n",
    "#from tqdm import tqdm\n",
    "from datetime import datetime\n",
    "import networkx as nx\n",
    "import ndlib.models.ModelConfig as mc\n",
    "import ndlib.models.epidemics as ep\n",
    "from ndlib.viz.mpl.DiffusionTrend import DiffusionTrend\n",
    "from ndlib.viz.bokeh.MultiPlot import MultiPlot\n",
    "from ndlib.viz.bokeh.DiffusionPrevalence import DiffusionPrevalence\n",
    "from bokeh.io import output_notebook, show\n",
    "from pprint import pprint\n",
    "#import json, re, demjson\n",
    "import sys\n",
    "import random\n",
    "import matplotlib.pyplot as plt"
   ]
  },
  {
   "cell_type": "markdown",
   "id": "1f7837a2",
   "metadata": {},
   "source": [
    "# 1er metodo generar power law in and out graph"
   ]
  },
  {
   "cell_type": "code",
   "execution_count": 71,
   "id": "9a5bd0d5",
   "metadata": {},
   "outputs": [],
   "source": [
    "graph = nx.scale_free_graph(2000)\n",
    "graph=nx.DiGraph(G)\n",
    "#G=nx.connected_components(G)#doesnt work for directed graphs\n",
    "\n",
    "graph.remove_edges_from(nx.selfloop_edges(G))\n",
    "#graoh=nx.connected_components(G)\n",
    "#nx.draw(G,node_size=20)\n",
    "#G.out_degree()"
   ]
  },
  {
   "cell_type": "markdown",
   "id": "c912e718",
   "metadata": {},
   "source": [
    "# 2º metodo de generar power law in and out graph"
   ]
  },
  {
   "cell_type": "code",
   "execution_count": 334,
   "id": "7feaf053",
   "metadata": {},
   "outputs": [
    {
     "name": "stdout",
     "output_type": "stream",
     "text": [
      "10452 10452\n"
     ]
    },
    {
     "name": "stderr",
     "output_type": "stream",
     "text": [
      "C:\\Users\\BrunoM\\AppData\\Local\\Temp/ipykernel_3040/3384970354.py:25: UserWarning: Matplotlib is currently using agg, which is a non-GUI backend, so cannot show the figure.\n",
      "  plt.show()\n"
     ]
    },
    {
     "data": {
      "image/png": "[encoded data removed]",
      "text/plain": [
       "<Figure size 432x288 with 2 Axes>"
      ]
     },
     "metadata": {
      "needs_background": "light"
     },
     "output_type": "display_data"
    }
   ],
   "source": [
    "def plot_degree_dist(G):\n",
    "    in_degrees = G.in_degree()\n",
    "    in_degrees=dict(in_degrees)\n",
    "    in_values = sorted(set(in_degrees.values()))\n",
    "    in_hist = [list(in_degrees.values()).count(x) for x in in_values]\n",
    "\n",
    "    plt.subplot(2,1,1) \n",
    "    plt.grid(False)\n",
    "    plt.loglog(in_values, in_hist, 'r.') \n",
    "    plt.xlabel('k')\n",
    "    plt.ylabel('p(k)')\n",
    "    plt.title('In Degree Distribution')\n",
    "\n",
    "    out_degrees = G.out_degree()\n",
    "    out_degrees=dict(out_degrees)\n",
    "    out_values = sorted(set(out_degrees.values()))\n",
    "    out_hist = [list(out_degrees.values()).count(x) for x in out_values]\n",
    "\n",
    "    plt.subplot(2,1,2)\n",
    "    plt.grid(False)\n",
    "    plt.loglog(out_values, out_hist, 'r.') \n",
    "    plt.xlabel('k')\n",
    "    plt.ylabel('p(k)')\n",
    "    plt.title('Out Degree Distribution')\n",
    "    plt.show()\n",
    "\n",
    "\n",
    "while True:  \n",
    "    s=[]\n",
    "    while len(s)<4000:\n",
    "        nextval = int(nx.utils.powerlaw_sequence(1, 2.5)[0]) #100 nodes, power-law exponent 2.5\n",
    "\n",
    "        if nextval!=0:\n",
    "            s.append(nextval)\n",
    "\n",
    "    if sum(s)%2 == 0:\n",
    "        break\n",
    "\n",
    "din = s\n",
    "\n",
    "\n",
    "#print(sum(din),sum(dout))\n",
    "dout=random.sample(s,len(s))\n",
    "#dout = z1\n",
    "\n",
    "print(sum(din),sum(dout))\n",
    "\n",
    "graph = nx.directed_configuration_model(din, dout)\n",
    "graph=nx.DiGraph(graph) # remove parallel edges\n",
    "graph.remove_edges_from(nx.selfloop_edges(graph))\n",
    "plot_degree_dist(graph)\n"
   ]
  },
  {
   "cell_type": "markdown",
   "id": "a854cb77",
   "metadata": {},
   "source": [
    "# Exponential graph"
   ]
  },
  {
   "cell_type": "code",
   "execution_count": 345,
   "id": "6db29c85",
   "metadata": {},
   "outputs": [
    {
     "name": "stdout",
     "output_type": "stream",
     "text": [
      "41188 41188\n"
     ]
    },
    {
     "name": "stderr",
     "output_type": "stream",
     "text": [
      "C:\\Users\\BrunoM\\AppData\\Local\\Temp/ipykernel_3040/694282479.py:29: UserWarning: Matplotlib is currently using agg, which is a non-GUI backend, so cannot show the figure.\n",
      "  plt.show()\n"
     ]
    },
    {
     "data": {
      "image/png": "[encoded data removed]",
      "text/plain": [
       "<Figure size 432x288 with 2 Axes>"
      ]
     },
     "metadata": {
      "needs_background": "light"
     },
     "output_type": "display_data"
    }
   ],
   "source": [
    "from scipy.stats import expon\n",
    "\n",
    "#generate random values from exponential distribution with rate=40 and sample size=10\n",
    "expon.rvs(scale=40, size=10)\n",
    "def plot_degree_dist(G):\n",
    "    in_degrees = G.in_degree()\n",
    "    in_degrees=dict(in_degrees)\n",
    "    in_values = sorted(set(in_degrees.values()))\n",
    "    in_hist = [list(in_degrees.values()).count(x) for x in in_values]\n",
    "\n",
    "    plt.subplot(2,1,1) \n",
    "    plt.grid(False)\n",
    "    plt.loglog(in_values, in_hist, 'r.') \n",
    "    plt.xlabel('k')\n",
    "    plt.ylabel('p(k)')\n",
    "    plt.title('In Degree Distribution')\n",
    "\n",
    "    out_degrees = G.out_degree()\n",
    "    out_degrees=dict(out_degrees)\n",
    "    out_values = sorted(set(out_degrees.values()))\n",
    "    out_hist = [list(out_degrees.values()).count(x) for x in out_values]\n",
    "\n",
    "    plt.subplot(2,1,2)\n",
    "    plt.grid(False)\n",
    "    plt.loglog(out_values, out_hist, 'r.') \n",
    "    plt.xlabel('k')\n",
    "    plt.ylabel('p(k)')\n",
    "    plt.title('Out Degree Distribution')\n",
    "    plt.show()\n",
    "\n",
    "\n",
    "while True:  \n",
    "    s=[]\n",
    "    while len(s)<4000:\n",
    "        nextval = int(expon.rvs(scale=10, size=1)) #generate random values from exponential distribution with rate=40 and sample size=10\n",
    "\n",
    "\n",
    "        if nextval!=0:\n",
    "            s.append(nextval)\n",
    "\n",
    "    if sum(s)%2 == 0:\n",
    "        break\n",
    "\n",
    "din = s\n",
    "\n",
    "\n",
    "#print(sum(din),sum(dout))\n",
    "dout=random.sample(s,len(s))\n",
    "#dout = z1\n",
    "\n",
    "print(sum(din),sum(dout))\n",
    "\n",
    "graph = nx.directed_configuration_model(din, dout)\n",
    "graph=nx.DiGraph(graph) # remove parallel edges\n",
    "graph.remove_edges_from(nx.selfloop_edges(graph))\n",
    "plot_degree_dist(graph)\n"
   ]
  },
  {
   "cell_type": "code",
   "execution_count": 346,
   "id": "656e22f7",
   "metadata": {},
   "outputs": [
    {
     "name": "stderr",
     "output_type": "stream",
     "text": [
      "C:\\Users\\BrunoM\\AppData\\Local\\Temp/ipykernel_3040/3519019974.py:55: UserWarning: Matplotlib is currently using agg, which is a non-GUI backend, so cannot show the figure.\n",
      "  plt.show()\n"
     ]
    },
    {
     "data": {
      "image/png": "[encoded data removed]",
      "text/plain": [
       "<Figure size 576x576 with 4 Axes>"
      ]
     },
     "metadata": {
      "needs_background": "light"
     },
     "output_type": "display_data"
    }
   ],
   "source": [
    "degree_sequence1 = sorted((d for n, d in graph.in_degree()), reverse=True)\n",
    "dmax1 = max(degree_sequence1)\n",
    "degree_sequence2 = sorted((d for n, d in graph.out_degree()), reverse=True)\n",
    "dmax2 = max(degree_sequence2)\n",
    "\n",
    "fig = plt.figure(\"Degree of a B-A graph\", figsize=(8, 8))\n",
    "# Create a gridspec for adding subplots of different sizes\n",
    "axgrid = fig.add_gridspec(5, 6)\n",
    "\n",
    "\"\"\"ax0 = fig.add_subplot(axgrid[0:3, :])\n",
    "Gcc = G.subgraph(sorted(nx.connected_components(G), key=len, reverse=True)[0])\n",
    "pos = nx.spring_layout(Gcc, seed=10396953)\n",
    "nx.draw_networkx_nodes(Gcc, pos, ax=ax0, node_size=20)\n",
    "nx.draw_networkx_edges(Gcc, pos, ax=ax0, alpha=0.4)\n",
    "ax0.set_title(\"Connected components of G\")\n",
    "ax0.set_axis_off()\"\"\"\n",
    "\n",
    "ax1 = fig.add_subplot(axgrid[3:, :3])\n",
    "ax1.plot(degree_sequence1, \"b-\", marker=\"o\")\n",
    "ax1.set_title(\" in Degree Rank Plot\")\n",
    "ax1.set_xscale('log')\n",
    "ax1.set_yscale('log')\n",
    "ax1.set_ylabel(\"Degree\")\n",
    "ax1.set_xlabel(\"Rank\")\n",
    "\n",
    "\n",
    "\n",
    "ax3 = fig.add_subplot(axgrid[3:, 3:])\n",
    "ax3.plot(degree_sequence2, \"b-\", marker=\"o\")\n",
    "ax3.set_title(\"out Degree Rank Plot log-log\")\n",
    "ax3.set_xscale('log')\n",
    "ax3.set_yscale('log')\n",
    "ax3.set_ylabel(\"Degree\")\n",
    "ax3.set_xlabel(\"Rank\")\n",
    "\n",
    "\n",
    "\n",
    "\n",
    "ax2 = fig.add_subplot(axgrid[0:3, :3])\n",
    "ax2.scatter(*np.unique([i for i in degree_sequence1 if i != 0], return_counts=True), s=5)\n",
    "ax2.set_title(\"in Degree histogram\")\n",
    "ax2.set_xlabel(\"Degree\")\n",
    "ax2.set_ylabel(\"# of Nodes\")\n",
    "ax2.set_xscale('log')\n",
    "ax2.set_yscale('log')\n",
    "\n",
    "ax4 = fig.add_subplot(axgrid[0:3,3:])\n",
    "ax4.scatter(*np.unique([i for i in degree_sequence2 if i != 0], return_counts=True), s=5)\n",
    "ax4.set_title(\"out Degree histogram\")\n",
    "ax4.set_xlabel(\"Degree\")\n",
    "ax4.set_ylabel(\"# of Nodes\")\n",
    "ax4.set_xscale('log')\n",
    "ax4.set_yscale('log')\n",
    "fig.tight_layout()\n",
    "plt.show()"
   ]
  },
  {
   "cell_type": "code",
   "execution_count": 347,
   "id": "3f67dbba",
   "metadata": {},
   "outputs": [
    {
     "name": "stdout",
     "output_type": "stream",
     "text": [
      "nº nodes with out degree  1 395\n",
      "nº nodes with in degree  1 396\n"
     ]
    }
   ],
   "source": [
    "value=1\n",
    "\n",
    "count=0\n",
    "for i in range(len(degree_sequence2)):\n",
    "    if degree_sequence2[i]==value:\n",
    "        count+=1\n",
    "print('nº nodes with out degree  '+str(value), count)\n",
    "\n",
    "count1=0\n",
    "for i in range(len(degree_sequence1)):\n",
    "    if degree_sequence1[i]==value:\n",
    "        count1+=1\n",
    "print('nº nodes with in degree  '+str(value), count1)\n"
   ]
  },
  {
   "cell_type": "code",
   "execution_count": 337,
   "id": "e553c097",
   "metadata": {},
   "outputs": [
    {
     "name": "stdout",
     "output_type": "stream",
     "text": [
      "No coincide el numero total de edges    10219 con la suma de in and out degree edges   10452.0\n"
     ]
    }
   ],
   "source": [
    "print('No coincide el numero total de edges   ',graph.number_of_edges(),'con la suma de in and out degree edges  ',(sum(din)+sum(dout))/2)"
   ]
  },
  {
   "cell_type": "markdown",
   "id": "e887f926",
   "metadata": {},
   "source": [
    "Independent Cascade starts by having an initial set of seed nodes,  A0 , that start the diffusion process, and the process unfolds in discrete steps according to the following randomized rule:\n",
    "\n",
    "When node  v  first becomes active in step  t , it is given a single chance to activate each currently inactive neighbor  w ; this process succeeds with a probability  pv,w , a parameter of the system — independently of the history thus far. If  v  succeeds, then  w  will become active in step  t+1 ; but whether or not  v  succeeds in this current step  t , it cannot make any further attempts to activate  w  in subsequent rounds. This process runs until no more activations are possible. Here, we assume that the nodes are progressive, meaning the node will only go from inactive to active, but not the other way around.\n",
    "\n"
   ]
  },
  {
   "cell_type": "code",
   "execution_count": 353,
   "id": "d8bf8b5d",
   "metadata": {},
   "outputs": [
    {
     "data": {
      "text/plain": [
       "'# assuming we start with 1 seed node\\n\\nseed_nodes = [np.random.choice(graph.nodes)]\\n                        \\ncompute_independent_cascade(graph, seed_nodes, prob=0.5)'"
      ]
     },
     "execution_count": 353,
     "metadata": {},
     "output_type": "execute_result"
    }
   ],
   "source": [
    "def compute_independent_cascade(graph, prob, n_iters=70000):\n",
    "    total_spead = 0\n",
    "    seeds_offs=[]\n",
    "    nodes_offs=[]\n",
    "    # simulate the spread process over multiple runs\n",
    "    for i in range(n_iters):\n",
    "        seed_nodes = [np.random.choice(graph.nodes)]\n",
    "\n",
    "        np.random.seed(i)\n",
    "        active = seed_nodes[:]\n",
    "        new_active = seed_nodes[:]\n",
    "        \n",
    "        # for each newly activated nodes, find its neighbors that becomes activated\n",
    "        \n",
    "        num=0#contador para separar las seeds offspring y node offspring\n",
    "        while new_active:\n",
    "            \n",
    "            num=num+1\n",
    "            \n",
    "            activated_nodes = []\n",
    "            \n",
    "            for node in new_active:\n",
    "                neighbors = list(graph.neighbors(node))\n",
    "                success = np.random.uniform(0, 1, len(neighbors)) < prob\n",
    "                activated_nodes += list(np.extract(success, neighbors))\n",
    "                \n",
    "                \n",
    "            if num == 1:\n",
    "                seeds_offs.append(len(activated_nodes))\n",
    "            else:\n",
    "                nodes_offs.append(len(activated_nodes)/len(new_active))\n",
    "            # ensure the newly activated nodes doesn't already exist\n",
    "            # in the final list of activated nodes before adding them\n",
    "            # to the final list\n",
    "            new_active = list(set(activated_nodes) - set(active))\n",
    "            active += new_active\n",
    "\n",
    "        total_spead += len(active)\n",
    "        #print(total_spead)\n",
    "               \n",
    "        \n",
    "    fig = plt.figure(\"seed offspring and node offspring\", figsize=(8, 8))\n",
    "    # Create a gridspec for adding subplots of different sizes\n",
    "    axgrid = fig.add_gridspec(2, 9)\n",
    "\n",
    "\n",
    "    #n_bins1=len(seeds_offs)\n",
    "    counts, bins = np.histogram(seeds_offs)\n",
    "    #plt.hist(bins[:-1], bins, weights=counts)\n",
    "    #print(n_bins1)\n",
    "    ax0 = fig.add_subplot(axgrid[:1, :4])\n",
    "    ax0.hist(bins[:-1], bins, weights=counts,density=True )\n",
    "    ax0.set_title(\" seeds_offs\")\n",
    "    #ax1.set_xscale('log')\n",
    "    #ax1.set_yscale('log')\n",
    "    ax0.set_ylabel(\"counts\")\n",
    "    ax0.set_xlabel(\"offspring\")\n",
    "\n",
    "\n",
    "    #n_bins2=len(nodes_offs)\n",
    "    counts1, bins1 = np.histogram(nodes_offs)\n",
    "    #plt.hist(bins[:-1], bins, weights=counts)\n",
    "\n",
    "    ax1 = fig.add_subplot(axgrid[:1, 5:])\n",
    "    ax1.hist(bins1[:-1], bins1, weights=counts1,density=True)\n",
    "    ax1.set_title(\"nodes_offs\")\n",
    "    #ax3.set_xscale('log')\n",
    "    #ax3.set_yscale('log')\n",
    "    ax1.set_ylabel(\"counts\")\n",
    "    ax1.set_xlabel(\"offspring\")\n",
    "    #print(n_bins2)\n",
    "\n",
    "        \n",
    "        \n",
    "        \n",
    "        \n",
    "        \n",
    "    print('el numero maximo de offspring del seed es   ', max(seeds_offs)) \n",
    "    print('el numero maximo de offspring de los nodos es   ', max(nodes_offs))    \n",
    "    return total_spead / n_iters, fig\n",
    "\n",
    "\n",
    "\"\"\"# assuming we start with 1 seed node\n",
    "\n",
    "seed_nodes = [np.random.choice(graph.nodes)]\n",
    "                        \n",
    "compute_independent_cascade(graph, seed_nodes, prob=0.5)\"\"\""
   ]
  },
  {
   "cell_type": "code",
   "execution_count": null,
   "id": "c9dcff9a",
   "metadata": {},
   "outputs": [],
   "source": [
    "compute_independent_cascade(graph, prob=0.3)\n"
   ]
  },
  {
   "cell_type": "code",
   "execution_count": null,
   "id": "fa33f8d5",
   "metadata": {},
   "outputs": [],
   "source": [
    "max([graph.out_degree(i) for i in range(0,len(graph.out_degree()))])"
   ]
  },
  {
   "cell_type": "code",
   "execution_count": null,
   "id": "b63f7911",
   "metadata": {
    "scrolled": false
   },
   "outputs": [],
   "source": []
  },
  {
   "cell_type": "code",
   "execution_count": null,
   "id": "4e34bbdc",
   "metadata": {},
   "outputs": [],
   "source": []
  },
  {
   "cell_type": "code",
   "execution_count": null,
   "id": "6bdff780",
   "metadata": {},
   "outputs": [],
   "source": []
  },
  {
   "cell_type": "code",
   "execution_count": null,
   "id": "712ef5ab",
   "metadata": {},
   "outputs": [],
   "source": []
  },
  {
   "cell_type": "code",
   "execution_count": null,
   "id": "777b5eea",
   "metadata": {},
   "outputs": [],
   "source": []
  },
  {
   "cell_type": "code",
   "execution_count": null,
   "id": "3bd11872",
   "metadata": {},
   "outputs": [],
   "source": []
  }
 ],
 "metadata": {
  "kernelspec": {
   "display_name": "Python 3 (ipykernel)",
   "language": "python",
   "name": "python3"
  },
  "language_info": {
   "codemirror_mode": {
    "name": "ipython",
    "version": 3
   },
   "file_extension": ".py",
   "mimetype": "text/x-python",
   "name": "python",
   "nbconvert_exporter": "python",
   "pygments_lexer": "ipython3",
   "version": "3.8.8"
  }
 },
 "nbformat": 4,
 "nbformat_minor": 5
}
