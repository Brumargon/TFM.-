{
 "cells": [
  {
   "cell_type": "code",
   "execution_count": 6,
   "id": "368db974",
   "metadata": {},
   "outputs": [],
   "source": [
    "import numpy as np\n",
    "import matplotlib.pyplot as plt\n"
   ]
  },
  {
   "cell_type": "code",
   "execution_count": 10,
   "id": "87844a62",
   "metadata": {},
   "outputs": [],
   "source": [
    "\n",
    "q = 3#ramificacion\n",
    "p = 0.2#probabilidad de supervivencia\n",
    "steps = 10000#numero de pasos maximo para ver el clustersize\n"
   ]
  },
  {
   "cell_type": "code",
   "execution_count": 11,
   "id": "161a9fe2",
   "metadata": {},
   "outputs": [],
   "source": [
    "\n",
    "p = np.arange(0,0.34,0.01)\n",
    "t = []\n",
    "total = 0\n",
    "for l in p:\n",
    "    for k in range(steps):\n",
    "        n0 = 1#inicialmente tenemos 1 que se divide en la ramificacion\n",
    "        n = 1\n",
    "        while n0>0:\n",
    "            n1 = 0\n",
    "            for i in range(0,n0):\n",
    "                for j in range(q):\n",
    "                    n += 1\n",
    "                    if np.random.random_sample()<l:\n",
    "                        n1 += 1\n",
    "            n0 = n1\n",
    "        total += n\n",
    "    total = total/steps\n",
    "    t.append(total)\n"
   ]
  },
  {
   "cell_type": "code",
   "execution_count": 12,
   "id": "aafb4f12",
   "metadata": {},
   "outputs": [
    {
     "data": {
      "text/plain": [
       "Text(0, 0.5, 'average cluster size')"
      ]
     },
     "execution_count": 12,
     "metadata": {},
     "output_type": "execute_result"
    },
    {
     "data": {
      "image/png": "[encoded data removed]",
      "text/plain": [
       "<Figure size 432x288 with 1 Axes>"
      ]
     },
     "metadata": {
      "needs_background": "light"
     },
     "output_type": "display_data"
    }
   ],
   "source": [
    "plt.plot(p,t)\n",
    "plt.title('critical probability--q^-1')\n",
    "plt.xlabel('probability')\n",
    "plt.ylabel('average cluster size')"
   ]
  },
  {
   "cell_type": "code",
   "execution_count": null,
   "id": "7343f4fe",
   "metadata": {},
   "outputs": [],
   "source": []
  }
 ],
 "metadata": {
  "kernelspec": {
   "display_name": "Python 3 (ipykernel)",
   "language": "python",
   "name": "python3"
  },
  "language_info": {
   "codemirror_mode": {
    "name": "ipython",
    "version": 3
   },
   "file_extension": ".py",
   "mimetype": "text/x-python",
   "name": "python",
   "nbconvert_exporter": "python",
   "pygments_lexer": "ipython3",
   "version": "3.8.8"
  }
 },
 "nbformat": 4,
 "nbformat_minor": 5
}
